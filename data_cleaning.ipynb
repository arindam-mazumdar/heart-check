{
 "cells": [
  {
   "cell_type": "code",
   "execution_count": 1,
   "metadata": {},
   "outputs": [],
   "source": [
    "import pandas as pd\n",
    "import numpy as np\n",
    "from matplotlib import pyplot as plt"
   ]
  },
  {
   "cell_type": "code",
   "execution_count": 2,
   "metadata": {},
   "outputs": [],
   "source": [
    "data = pd.read_csv('LLCP2020.csv', low_memory=False)\n",
    "data = data.drop('Unnamed: 0', axis=1)\n",
    "data=data.dropna()"
   ]
  },
  {
   "cell_type": "code",
   "execution_count": 5,
   "metadata": {},
   "outputs": [
    {
     "data": {
      "text/plain": [
       "Index(['_STATE', 'FMONTH', 'IDATE', 'IMONTH', 'IDAY', 'IYEAR', 'DISPCODE',\n",
       "       'SEQNO', '_PSU', 'CTELENM1',\n",
       "       ...\n",
       "       '_RFPSA23', '_CLNSCPY', '_SGMSCPY', '_SGMS10Y', '_RFBLDS4', '_STOLDNA',\n",
       "       '_VIRCOLN', '_SBONTIM', '_CRCREC1', '_AIDTST4'],\n",
       "      dtype='object', length=279)"
      ]
     },
     "execution_count": 5,
     "metadata": {},
     "output_type": "execute_result"
    }
   ],
   "source": [
    "data.columns"
   ]
  },
  {
   "cell_type": "code",
   "execution_count": 6,
   "metadata": {},
   "outputs": [
    {
     "data": {
      "text/html": [
       "<div>\n",
       "<style scoped>\n",
       "    .dataframe tbody tr th:only-of-type {\n",
       "        vertical-align: middle;\n",
       "    }\n",
       "\n",
       "    .dataframe tbody tr th {\n",
       "        vertical-align: top;\n",
       "    }\n",
       "\n",
       "    .dataframe thead th {\n",
       "        text-align: right;\n",
       "    }\n",
       "</style>\n",
       "<table border=\"1\" class=\"dataframe\">\n",
       "  <thead>\n",
       "    <tr style=\"text-align: right;\">\n",
       "      <th></th>\n",
       "      <th>_STATE</th>\n",
       "      <th>FMONTH</th>\n",
       "      <th>IDATE</th>\n",
       "      <th>IMONTH</th>\n",
       "      <th>IDAY</th>\n",
       "      <th>IYEAR</th>\n",
       "      <th>DISPCODE</th>\n",
       "      <th>SEQNO</th>\n",
       "      <th>_PSU</th>\n",
       "      <th>CTELENM1</th>\n",
       "      <th>...</th>\n",
       "      <th>_RFPSA23</th>\n",
       "      <th>_CLNSCPY</th>\n",
       "      <th>_SGMSCPY</th>\n",
       "      <th>_SGMS10Y</th>\n",
       "      <th>_RFBLDS4</th>\n",
       "      <th>_STOLDNA</th>\n",
       "      <th>_VIRCOLN</th>\n",
       "      <th>_SBONTIM</th>\n",
       "      <th>_CRCREC1</th>\n",
       "      <th>_AIDTST4</th>\n",
       "    </tr>\n",
       "  </thead>\n",
       "  <tbody>\n",
       "    <tr>\n",
       "      <th>0</th>\n",
       "      <td>1.0</td>\n",
       "      <td>1.0</td>\n",
       "      <td>1042020.0</td>\n",
       "      <td>1.0</td>\n",
       "      <td>4.0</td>\n",
       "      <td>2020.0</td>\n",
       "      <td>1100.0</td>\n",
       "      <td>2.020000e+09</td>\n",
       "      <td>2.020000e+09</td>\n",
       "      <td>1</td>\n",
       "      <td>...</td>\n",
       "      <td></td>\n",
       "      <td>1</td>\n",
       "      <td>3</td>\n",
       "      <td>3</td>\n",
       "      <td>3</td>\n",
       "      <td>3</td>\n",
       "      <td>3</td>\n",
       "      <td>3</td>\n",
       "      <td>1</td>\n",
       "      <td>1</td>\n",
       "    </tr>\n",
       "    <tr>\n",
       "      <th>1</th>\n",
       "      <td>1.0</td>\n",
       "      <td>1.0</td>\n",
       "      <td>2072020.0</td>\n",
       "      <td>2.0</td>\n",
       "      <td>7.0</td>\n",
       "      <td>2020.0</td>\n",
       "      <td>1200.0</td>\n",
       "      <td>2.020000e+09</td>\n",
       "      <td>2.020000e+09</td>\n",
       "      <td>1</td>\n",
       "      <td>...</td>\n",
       "      <td></td>\n",
       "      <td></td>\n",
       "      <td></td>\n",
       "      <td></td>\n",
       "      <td></td>\n",
       "      <td></td>\n",
       "      <td></td>\n",
       "      <td>2</td>\n",
       "      <td></td>\n",
       "      <td></td>\n",
       "    </tr>\n",
       "    <tr>\n",
       "      <th>2</th>\n",
       "      <td>1.0</td>\n",
       "      <td>1.0</td>\n",
       "      <td>1232020.0</td>\n",
       "      <td>1.0</td>\n",
       "      <td>23.0</td>\n",
       "      <td>2020.0</td>\n",
       "      <td>1100.0</td>\n",
       "      <td>2.020000e+09</td>\n",
       "      <td>2.020000e+09</td>\n",
       "      <td>1</td>\n",
       "      <td>...</td>\n",
       "      <td></td>\n",
       "      <td>1</td>\n",
       "      <td>3</td>\n",
       "      <td>3</td>\n",
       "      <td>3</td>\n",
       "      <td>3</td>\n",
       "      <td>3</td>\n",
       "      <td>3</td>\n",
       "      <td>1</td>\n",
       "      <td>2</td>\n",
       "    </tr>\n",
       "    <tr>\n",
       "      <th>3</th>\n",
       "      <td>1.0</td>\n",
       "      <td>1.0</td>\n",
       "      <td>1092020.0</td>\n",
       "      <td>1.0</td>\n",
       "      <td>9.0</td>\n",
       "      <td>2020.0</td>\n",
       "      <td>1100.0</td>\n",
       "      <td>2.020000e+09</td>\n",
       "      <td>2.020000e+09</td>\n",
       "      <td>1</td>\n",
       "      <td>...</td>\n",
       "      <td></td>\n",
       "      <td></td>\n",
       "      <td></td>\n",
       "      <td></td>\n",
       "      <td></td>\n",
       "      <td></td>\n",
       "      <td></td>\n",
       "      <td></td>\n",
       "      <td></td>\n",
       "      <td>2</td>\n",
       "    </tr>\n",
       "    <tr>\n",
       "      <th>4</th>\n",
       "      <td>1.0</td>\n",
       "      <td>1.0</td>\n",
       "      <td>1042020.0</td>\n",
       "      <td>1.0</td>\n",
       "      <td>4.0</td>\n",
       "      <td>2020.0</td>\n",
       "      <td>1100.0</td>\n",
       "      <td>2.020000e+09</td>\n",
       "      <td>2.020000e+09</td>\n",
       "      <td>1</td>\n",
       "      <td>...</td>\n",
       "      <td></td>\n",
       "      <td></td>\n",
       "      <td></td>\n",
       "      <td></td>\n",
       "      <td></td>\n",
       "      <td></td>\n",
       "      <td></td>\n",
       "      <td></td>\n",
       "      <td></td>\n",
       "      <td>9</td>\n",
       "    </tr>\n",
       "  </tbody>\n",
       "</table>\n",
       "<p>5 rows × 279 columns</p>\n",
       "</div>"
      ],
      "text/plain": [
       "   _STATE  FMONTH      IDATE  IMONTH  IDAY   IYEAR  DISPCODE         SEQNO  \\\n",
       "0     1.0     1.0  1042020.0     1.0   4.0  2020.0    1100.0  2.020000e+09   \n",
       "1     1.0     1.0  2072020.0     2.0   7.0  2020.0    1200.0  2.020000e+09   \n",
       "2     1.0     1.0  1232020.0     1.0  23.0  2020.0    1100.0  2.020000e+09   \n",
       "3     1.0     1.0  1092020.0     1.0   9.0  2020.0    1100.0  2.020000e+09   \n",
       "4     1.0     1.0  1042020.0     1.0   4.0  2020.0    1100.0  2.020000e+09   \n",
       "\n",
       "           _PSU CTELENM1  ... _RFPSA23 _CLNSCPY _SGMSCPY _SGMS10Y _RFBLDS4  \\\n",
       "0  2.020000e+09        1  ...                 1        3        3        3   \n",
       "1  2.020000e+09        1  ...                                                \n",
       "2  2.020000e+09        1  ...                 1        3        3        3   \n",
       "3  2.020000e+09        1  ...                                                \n",
       "4  2.020000e+09        1  ...                                                \n",
       "\n",
       "  _STOLDNA _VIRCOLN _SBONTIM _CRCREC1 _AIDTST4  \n",
       "0        3        3        3        1        1  \n",
       "1                          2                    \n",
       "2        3        3        3        1        2  \n",
       "3                                            2  \n",
       "4                                            9  \n",
       "\n",
       "[5 rows x 279 columns]"
      ]
     },
     "execution_count": 6,
     "metadata": {},
     "output_type": "execute_result"
    }
   ],
   "source": [
    "data.head()"
   ]
  },
  {
   "cell_type": "code",
   "execution_count": 7,
   "metadata": {},
   "outputs": [],
   "source": [
    "# _SEX  ## Male = 1 , Female = 2\n",
    "# DIABAGE3 # How old were you when you were told you had diabetes 0-97 : 98-99 refused or not known\n",
    "# LCSFIRST : How old were you when you first started to smoke cigarettes regularly: 1-100, otherwise refused\n",
    "#  LCSLAST : How old were you when you last smoked cigarettes regularly? 1-100, otherwise refused\n",
    "#  CNCRAGE  : At what age were you told that you had cancer? 1-97, otherwise refused\n",
    "#  _HCVU651 : Healthcare coverage : 1 = Has, 2 = Does not have, 9 = refused\n",
    "#  _AGEG5YR : Age category: 1 to 13 : age : 18-99, 14 means refused\n",
    "#  _AGE65YR : 2 category age group : 18-64 = 1, above 64 = 2, 3= refused\n",
    "#  _AGE_G : Six-level imputed age category : value 1-6\n",
    "#  _PRACE1 : Race in 1-8 values, other values refused or missing\n",
    "#  _MRACE1 : Race calcuated 1-7 values, other values refused or missing\n",
    "# SMOKE100 : Smoked atleast 100 cigs in life : 1= Yes, other values No or refused\n",
    "# SMOKDAY2: Do you smoke now. 1= Everyday, 2= Someday, other values = refused or don't know \n",
    "# LASTSMK2: When did you last smoked.values 1-7, other values = refused or not applicable\n",
    "#  LCSNUMCG: When you smoked how many cigs daily: 1-300, other values = refused or not applicable\n",
    "#  _SMOKER3 : Four-level smoker status: Everyday smoker(1), Someday smoker(2), Former smoker(3), Non-smoker(4): value 9 = refused\n",
    "#  _RFSMOK3: Adults who are current smokers: No(1), Yes(2), other value = refused or NA\n",
    "#  CVDINFR4 :  had a heart attack, also called a myocardial infarction? Yes: 1, other values : no or refused or NA\n",
    "#  CVDCRHD4: had angina or coronary heart disease? Yes: 1, other values : no or refused or NA\n",
    "#  CVDSTRK3 : Had stroke? Yes: 1, other values : no or refused or NA\n",
    "#  DIABETE4 : Had diabetes: Yes: 1, other values : no or refused or NA\n",
    "#  DIABAGE3 : Age when you got diabetes: value 1-97 , other values : no or refused or NA\n",
    "#  _MICHD : Calculated variable of having coronary disease: has cardiac problem = 1, no = 2, ' ' = refused\n",
    "#  _RACE : Race calcuated 1-8 values, other values refused or missing\n",
    "# WTKG3 : Weight in Kg"
   ]
  },
  {
   "cell_type": "code",
   "execution_count": 9,
   "metadata": {},
   "outputs": [],
   "source": [
    "df= data[['_SEX', '_HCVU651','_AGEG5YR', '_RACE', 'WTKG3','SMOKE100','SMOKDAY2','LCSNUMCG','DIABETE4','CVDINFR4','CVDCRHD4','CVDSTRK3','_TOTINDA','_RFDRHV7', 'SLEPTIM1'\n",
    "]]"
   ]
  },
  {
   "cell_type": "code",
   "execution_count": 10,
   "metadata": {},
   "outputs": [
    {
     "data": {
      "text/html": [
       "<div>\n",
       "<style scoped>\n",
       "    .dataframe tbody tr th:only-of-type {\n",
       "        vertical-align: middle;\n",
       "    }\n",
       "\n",
       "    .dataframe tbody tr th {\n",
       "        vertical-align: top;\n",
       "    }\n",
       "\n",
       "    .dataframe thead th {\n",
       "        text-align: right;\n",
       "    }\n",
       "</style>\n",
       "<table border=\"1\" class=\"dataframe\">\n",
       "  <thead>\n",
       "    <tr style=\"text-align: right;\">\n",
       "      <th></th>\n",
       "      <th>_SEX</th>\n",
       "      <th>_HCVU651</th>\n",
       "      <th>_AGEG5YR</th>\n",
       "      <th>_RACE</th>\n",
       "      <th>WTKG3</th>\n",
       "      <th>SMOKE100</th>\n",
       "      <th>SMOKDAY2</th>\n",
       "      <th>LCSNUMCG</th>\n",
       "      <th>DIABETE4</th>\n",
       "      <th>CVDINFR4</th>\n",
       "      <th>CVDCRHD4</th>\n",
       "      <th>CVDSTRK3</th>\n",
       "      <th>_TOTINDA</th>\n",
       "      <th>_RFDRHV7</th>\n",
       "      <th>SLEPTIM1</th>\n",
       "    </tr>\n",
       "  </thead>\n",
       "  <tbody>\n",
       "    <tr>\n",
       "      <th>0</th>\n",
       "      <td>2.0</td>\n",
       "      <td>2.0</td>\n",
       "      <td>8.0</td>\n",
       "      <td>1</td>\n",
       "      <td>04808</td>\n",
       "      <td>1</td>\n",
       "      <td>1</td>\n",
       "      <td></td>\n",
       "      <td>1</td>\n",
       "      <td>2</td>\n",
       "      <td>2</td>\n",
       "      <td>2</td>\n",
       "      <td>1.0</td>\n",
       "      <td>1.0</td>\n",
       "      <td>05</td>\n",
       "    </tr>\n",
       "    <tr>\n",
       "      <th>1</th>\n",
       "      <td>2.0</td>\n",
       "      <td>9.0</td>\n",
       "      <td>10.0</td>\n",
       "      <td>2</td>\n",
       "      <td>07711</td>\n",
       "      <td></td>\n",
       "      <td></td>\n",
       "      <td></td>\n",
       "      <td>3</td>\n",
       "      <td>2</td>\n",
       "      <td>2</td>\n",
       "      <td>2</td>\n",
       "      <td>1.0</td>\n",
       "      <td>9.0</td>\n",
       "      <td>07</td>\n",
       "    </tr>\n",
       "    <tr>\n",
       "      <th>2</th>\n",
       "      <td>2.0</td>\n",
       "      <td>9.0</td>\n",
       "      <td>10.0</td>\n",
       "      <td>2</td>\n",
       "      <td></td>\n",
       "      <td>2</td>\n",
       "      <td></td>\n",
       "      <td></td>\n",
       "      <td>3</td>\n",
       "      <td>2</td>\n",
       "      <td>2</td>\n",
       "      <td>2</td>\n",
       "      <td>1.0</td>\n",
       "      <td>1.0</td>\n",
       "      <td>07</td>\n",
       "    </tr>\n",
       "    <tr>\n",
       "      <th>3</th>\n",
       "      <td>2.0</td>\n",
       "      <td>9.0</td>\n",
       "      <td>13.0</td>\n",
       "      <td>1</td>\n",
       "      <td></td>\n",
       "      <td>2</td>\n",
       "      <td></td>\n",
       "      <td></td>\n",
       "      <td>3</td>\n",
       "      <td>2</td>\n",
       "      <td>2</td>\n",
       "      <td>2</td>\n",
       "      <td>2.0</td>\n",
       "      <td>1.0</td>\n",
       "      <td>06</td>\n",
       "    </tr>\n",
       "    <tr>\n",
       "      <th>4</th>\n",
       "      <td>2.0</td>\n",
       "      <td>9.0</td>\n",
       "      <td>13.0</td>\n",
       "      <td>1</td>\n",
       "      <td>05715</td>\n",
       "      <td>2</td>\n",
       "      <td></td>\n",
       "      <td></td>\n",
       "      <td>3</td>\n",
       "      <td>2</td>\n",
       "      <td>2</td>\n",
       "      <td>1</td>\n",
       "      <td>1.0</td>\n",
       "      <td>1.0</td>\n",
       "      <td>07</td>\n",
       "    </tr>\n",
       "  </tbody>\n",
       "</table>\n",
       "</div>"
      ],
      "text/plain": [
       "   _SEX  _HCVU651  _AGEG5YR _RACE  WTKG3 SMOKE100 SMOKDAY2 LCSNUMCG DIABETE4  \\\n",
       "0   2.0       2.0       8.0     1  04808        1        1                 1   \n",
       "1   2.0       9.0      10.0     2  07711                                   3   \n",
       "2   2.0       9.0      10.0     2               2                          3   \n",
       "3   2.0       9.0      13.0     1               2                          3   \n",
       "4   2.0       9.0      13.0     1  05715        2                          3   \n",
       "\n",
       "  CVDINFR4 CVDCRHD4 CVDSTRK3  _TOTINDA  _RFDRHV7 SLEPTIM1  \n",
       "0        2        2        2       1.0       1.0       05  \n",
       "1        2        2        2       1.0       9.0       07  \n",
       "2        2        2        2       1.0       1.0       07  \n",
       "3        2        2        2       2.0       1.0       06  \n",
       "4        2        2        1       1.0       1.0       07  "
      ]
     },
     "execution_count": 10,
     "metadata": {},
     "output_type": "execute_result"
    }
   ],
   "source": [
    "df.head()"
   ]
  },
  {
   "cell_type": "code",
   "execution_count": 11,
   "metadata": {},
   "outputs": [],
   "source": [
    "# df.loc[:,'_SEX']=df['_SEX'].astype(int)\n",
    "# df['_AGEG5YR']=df['_AGEG5YR'].astype(int)"
   ]
  },
  {
   "cell_type": "code",
   "execution_count": 12,
   "metadata": {},
   "outputs": [
    {
     "name": "stderr",
     "output_type": "stream",
     "text": [
      "/home/arindam/anaconda3/lib/python3.8/site-packages/pandas/core/generic.py:6746: SettingWithCopyWarning: \n",
      "A value is trying to be set on a copy of a slice from a DataFrame\n",
      "\n",
      "See the caveats in the documentation: https://pandas.pydata.org/pandas-docs/stable/user_guide/indexing.html#returning-a-view-versus-a-copy\n",
      "  self._update_inplace(new_data)\n"
     ]
    }
   ],
   "source": [
    "df['_AGEG5YR'].replace(to_replace=14, value= df['_AGEG5YR'].mode(), inplace=True)"
   ]
  },
  {
   "cell_type": "code",
   "execution_count": 13,
   "metadata": {},
   "outputs": [
    {
     "name": "stderr",
     "output_type": "stream",
     "text": [
      "<ipython-input-13-326fac563de5>:1: SettingWithCopyWarning: \n",
      "A value is trying to be set on a copy of a slice from a DataFrame.\n",
      "Try using .loc[row_indexer,col_indexer] = value instead\n",
      "\n",
      "See the caveats in the documentation: https://pandas.pydata.org/pandas-docs/stable/user_guide/indexing.html#returning-a-view-versus-a-copy\n",
      "  df['_HCVU651']= df['_HCVU651'].astype(int)\n"
     ]
    }
   ],
   "source": [
    "df['_HCVU651']= df['_HCVU651'].astype(int)\n",
    "df['_HCVU651'].replace(to_replace=9, value= 2, inplace=True)"
   ]
  },
  {
   "cell_type": "code",
   "execution_count": 14,
   "metadata": {},
   "outputs": [],
   "source": [
    "# _HCVU651 : replace the refused(9) with does not have (2)"
   ]
  },
  {
   "cell_type": "code",
   "execution_count": 15,
   "metadata": {},
   "outputs": [],
   "source": [
    "df['_RACE'].replace(to_replace=' ', value= int(1), inplace=True)\n",
    "#df['_RACE'].value_counts()"
   ]
  },
  {
   "cell_type": "code",
   "execution_count": 16,
   "metadata": {},
   "outputs": [],
   "source": [
    "for i in range(len(df['WTKG3'])):\n",
    "    if len(df.loc[i,'WTKG3']) > 5:\n",
    "        print(df.loc[i,'WTKG3'])"
   ]
  },
  {
   "cell_type": "code",
   "execution_count": 17,
   "metadata": {},
   "outputs": [],
   "source": [
    "df['WTKG3'].replace(to_replace='     ', value= np.nan, inplace=True)"
   ]
  },
  {
   "cell_type": "code",
   "execution_count": 18,
   "metadata": {},
   "outputs": [
    {
     "name": "stderr",
     "output_type": "stream",
     "text": [
      "<ipython-input-18-9974cbb384e5>:1: SettingWithCopyWarning: \n",
      "A value is trying to be set on a copy of a slice from a DataFrame.\n",
      "Try using .loc[row_indexer,col_indexer] = value instead\n",
      "\n",
      "See the caveats in the documentation: https://pandas.pydata.org/pandas-docs/stable/user_guide/indexing.html#returning-a-view-versus-a-copy\n",
      "  df['WTKG3']=df['WTKG3'].astype(float)\n"
     ]
    }
   ],
   "source": [
    "df['WTKG3']=df['WTKG3'].astype(float)"
   ]
  },
  {
   "cell_type": "code",
   "execution_count": 19,
   "metadata": {},
   "outputs": [],
   "source": [
    "df['WTKG3'].replace(to_replace= np.nan, value= df['WTKG3'].mean(), inplace=True)"
   ]
  },
  {
   "cell_type": "code",
   "execution_count": 20,
   "metadata": {},
   "outputs": [
    {
     "name": "stderr",
     "output_type": "stream",
     "text": [
      "<ipython-input-20-a85aef22942e>:1: SettingWithCopyWarning: \n",
      "A value is trying to be set on a copy of a slice from a DataFrame.\n",
      "Try using .loc[row_indexer,col_indexer] = value instead\n",
      "\n",
      "See the caveats in the documentation: https://pandas.pydata.org/pandas-docs/stable/user_guide/indexing.html#returning-a-view-versus-a-copy\n",
      "  df['WTKG3'] = df['WTKG3']/100\n"
     ]
    }
   ],
   "source": [
    "df['WTKG3'] = df['WTKG3']/100"
   ]
  },
  {
   "cell_type": "code",
   "execution_count": 21,
   "metadata": {},
   "outputs": [
    {
     "name": "stderr",
     "output_type": "stream",
     "text": [
      "<ipython-input-21-b74b2ce761c7>:1: SettingWithCopyWarning: \n",
      "A value is trying to be set on a copy of a slice from a DataFrame.\n",
      "Try using .loc[row_indexer,col_indexer] = value instead\n",
      "\n",
      "See the caveats in the documentation: https://pandas.pydata.org/pandas-docs/stable/user_guide/indexing.html#returning-a-view-versus-a-copy\n",
      "  df['SMOKE'] = data['_SMOKER3'].astype(int)\n"
     ]
    }
   ],
   "source": [
    "df['SMOKE'] = data['_SMOKER3'].astype(int)"
   ]
  },
  {
   "cell_type": "code",
   "execution_count": 22,
   "metadata": {},
   "outputs": [],
   "source": [
    "df = df.drop('SMOKE100', axis=1)"
   ]
  },
  {
   "cell_type": "code",
   "execution_count": 23,
   "metadata": {},
   "outputs": [],
   "source": [
    "df = df.drop(['SMOKDAY2', 'LCSNUMCG'], axis=1);"
   ]
  },
  {
   "cell_type": "code",
   "execution_count": 24,
   "metadata": {},
   "outputs": [],
   "source": [
    "df['SMOKE'].replace(to_replace=9, value= 4, inplace=True)"
   ]
  },
  {
   "cell_type": "code",
   "execution_count": 25,
   "metadata": {},
   "outputs": [],
   "source": [
    "df['DIABETE4'].replace(to_replace=' ', value= 0, inplace=True)"
   ]
  },
  {
   "cell_type": "code",
   "execution_count": 26,
   "metadata": {},
   "outputs": [],
   "source": [
    "df['DIABETE4'].replace(to_replace=['2','3','4','7','9'], value= 0, inplace=True)"
   ]
  },
  {
   "cell_type": "code",
   "execution_count": 27,
   "metadata": {},
   "outputs": [],
   "source": [
    "df['DIABETE4']=df['DIABETE4'].astype(int)"
   ]
  },
  {
   "cell_type": "code",
   "execution_count": 28,
   "metadata": {},
   "outputs": [],
   "source": [
    "df= df.drop(['CVDINFR4','CVDCRHD4','CVDSTRK3'], axis=1)"
   ]
  },
  {
   "cell_type": "code",
   "execution_count": 29,
   "metadata": {},
   "outputs": [],
   "source": [
    "df['MICHD'] = data['_MICHD']"
   ]
  },
  {
   "cell_type": "code",
   "execution_count": 30,
   "metadata": {},
   "outputs": [],
   "source": [
    "df['MICHD'].replace(to_replace=' ', value= 0, inplace=True)"
   ]
  },
  {
   "cell_type": "code",
   "execution_count": 31,
   "metadata": {},
   "outputs": [],
   "source": [
    "df['MICHD'].replace(to_replace='2', value= 0, inplace=True)"
   ]
  },
  {
   "cell_type": "code",
   "execution_count": 32,
   "metadata": {},
   "outputs": [],
   "source": [
    "df['MICHD'] = df['MICHD'].astype(int)"
   ]
  },
  {
   "cell_type": "code",
   "execution_count": 33,
   "metadata": {},
   "outputs": [],
   "source": [
    "df['HEIGHT']= data['HTM4'] "
   ]
  },
  {
   "cell_type": "code",
   "execution_count": 34,
   "metadata": {},
   "outputs": [],
   "source": [
    "df['HEIGHT'].replace(to_replace='   ', value= np.nan, inplace=True)"
   ]
  },
  {
   "cell_type": "code",
   "execution_count": 35,
   "metadata": {},
   "outputs": [],
   "source": [
    "df['HEIGHT'] = df['HEIGHT'].astype(float) \n",
    "df['HEIGHT'].replace(to_replace=np.nan, value= df['HEIGHT'].mean(), inplace=True)"
   ]
  },
  {
   "cell_type": "code",
   "execution_count": 36,
   "metadata": {},
   "outputs": [],
   "source": [
    "df = df[df['SLEPTIM1'] != '  ']"
   ]
  },
  {
   "cell_type": "code",
   "execution_count": 37,
   "metadata": {},
   "outputs": [],
   "source": [
    "df['SLEPTIM1'] = df['SLEPTIM1'].astype(int)"
   ]
  },
  {
   "cell_type": "code",
   "execution_count": 38,
   "metadata": {},
   "outputs": [],
   "source": [
    "df = df[(df['SLEPTIM1'] !=99) & (df['SLEPTIM1'] !=99) ]"
   ]
  },
  {
   "cell_type": "code",
   "execution_count": 40,
   "metadata": {},
   "outputs": [],
   "source": [
    "df=df[df['_AGEG5YR']!=14]"
   ]
  },
  {
   "cell_type": "code",
   "execution_count": 41,
   "metadata": {},
   "outputs": [],
   "source": [
    "df.to_csv('wrangled_data.csv')"
   ]
  },
  {
   "cell_type": "code",
   "execution_count": null,
   "metadata": {},
   "outputs": [],
   "source": []
  }
 ],
 "metadata": {
  "kernelspec": {
   "display_name": "Python 3",
   "language": "python",
   "name": "python3"
  },
  "language_info": {
   "codemirror_mode": {
    "name": "ipython",
    "version": 3
   },
   "file_extension": ".py",
   "mimetype": "text/x-python",
   "name": "python",
   "nbconvert_exporter": "python",
   "pygments_lexer": "ipython3",
   "version": "3.8.3"
  }
 },
 "nbformat": 4,
 "nbformat_minor": 4
}
